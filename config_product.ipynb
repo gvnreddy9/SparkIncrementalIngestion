{
 "cells": [
  {
   "cell_type": "markdown",
   "metadata": {
    "application/vnd.databricks.v1+cell": {
     "cellMetadata": {
      "byteLimit": 2048000,
      "rowLimit": 10000
     },
     "inputWidgets": {},
     "nuid": "b3e9d4c1-d3d7-4ecb-835b-2aebdf62c4ed",
     "showTitle": false,
     "title": ""
    }
   },
   "source": [
    "#### Creating `product` Delta table using DDL Script"
   ]
  },
  {
   "cell_type": "code",
   "execution_count": 0,
   "metadata": {
    "application/vnd.databricks.v1+cell": {
     "cellMetadata": {
      "byteLimit": 2048000,
      "rowLimit": 10000
     },
     "inputWidgets": {},
     "nuid": "a85f1cf8-076f-4dc0-9072-08137e36cbf1",
     "showTitle": false,
     "title": ""
    }
   },
   "outputs": [
    {
     "output_type": "display_data",
     "data": {
      "text/html": [
       "<style scoped>\n",
       "  .table-result-container {\n",
       "    max-height: 300px;\n",
       "    overflow: auto;\n",
       "  }\n",
       "  table, th, td {\n",
       "    border: 1px solid black;\n",
       "    border-collapse: collapse;\n",
       "  }\n",
       "  th, td {\n",
       "    padding: 5px;\n",
       "  }\n",
       "  th {\n",
       "    text-align: left;\n",
       "  }\n",
       "</style><div class='table-result-container'><table class='table-result'><thead style='background-color: white'><tr><th>path</th><th>name</th><th>size</th><th>modificationTime</th></tr></thead><tbody><tr><td>dbfs:/user/hive/warehouse/product/_delta_log/</td><td>_delta_log/</td><td>0</td><td>0</td></tr></tbody></table></div>"
      ]
     },
     "metadata": {
      "application/vnd.databricks.v1+output": {
       "addedWidgets": {},
       "aggData": [],
       "aggError": "",
       "aggOverflow": false,
       "aggSchema": [],
       "aggSeriesLimitReached": false,
       "aggType": "",
       "arguments": {},
       "columnCustomDisplayInfos": {},
       "data": [
        [
         "dbfs:/user/hive/warehouse/product/_delta_log/",
         "_delta_log/",
         0,
         0
        ]
       ],
       "datasetInfos": [],
       "dbfsResultPath": null,
       "isJsonSchema": true,
       "metadata": {
        "isDbfsCommandResult": false
       },
       "overflow": false,
       "plotOptions": {
        "customPlotOptions": {},
        "displayType": "table",
        "pivotAggregation": null,
        "pivotColumns": null,
        "xColumns": null,
        "yColumns": null
       },
       "removedWidgets": [],
       "schema": [
        {
         "metadata": "{}",
         "name": "path",
         "type": "\"string\""
        },
        {
         "metadata": "{}",
         "name": "name",
         "type": "\"string\""
        },
        {
         "metadata": "{}",
         "name": "size",
         "type": "\"long\""
        },
        {
         "metadata": "{}",
         "name": "modificationTime",
         "type": "\"long\""
        }
       ],
       "type": "table"
      }
     },
     "output_type": "display_data"
    }
   ],
   "source": [
    "%fs ls /user/hive/warehouse/product"
   ]
  },
  {
   "cell_type": "code",
   "execution_count": 0,
   "metadata": {
    "application/vnd.databricks.v1+cell": {
     "cellMetadata": {
      "byteLimit": 2048000,
      "rowLimit": 10000
     },
     "inputWidgets": {},
     "nuid": "54ae9ee6-c413-4ddd-9cd7-8647bc4d4af7",
     "showTitle": false,
     "title": ""
    }
   },
   "outputs": [
    {
     "output_type": "display_data",
     "data": {
      "text/html": [
       "<style scoped>\n",
       "  .ansiout {\n",
       "    display: block;\n",
       "    unicode-bidi: embed;\n",
       "    white-space: pre-wrap;\n",
       "    word-wrap: break-word;\n",
       "    word-break: break-all;\n",
       "    font-family: \"Menlo\", \"Monaco\", \"Consolas\", \"Ubuntu Mono\", \"Source Code Pro\", monospace;\n",
       "    font-size: 13px;\n",
       "    color: #555;\n",
       "    margin-left: 4px;\n",
       "    line-height: 19px;\n",
       "  }\n",
       "</style>\n",
       "<div class=\"ansiout\">res1: Boolean = true\n",
       "</div>"
      ]
     },
     "metadata": {
      "application/vnd.databricks.v1+output": {
       "addedWidgets": {},
       "arguments": {},
       "data": "<div class=\"ansiout\">res1: Boolean = true\n</div>",
       "datasetInfos": [],
       "metadata": {
        "isDbfsCommandResult": false
       },
       "removedWidgets": [],
       "type": "html"
      }
     },
     "output_type": "display_data"
    }
   ],
   "source": [
    "%fs rm -r /user/hive/warehouse/product"
   ]
  },
  {
   "cell_type": "code",
   "execution_count": 0,
   "metadata": {
    "application/vnd.databricks.v1+cell": {
     "cellMetadata": {
      "byteLimit": 2048000,
      "implicitDf": true,
      "rowLimit": 10000
     },
     "inputWidgets": {},
     "nuid": "62843602-5a85-431e-90a0-c7c654f5822e",
     "showTitle": false,
     "title": ""
    }
   },
   "outputs": [
    {
     "output_type": "display_data",
     "data": {
      "text/html": [
       "<style scoped>\n",
       "  .table-result-container {\n",
       "    max-height: 300px;\n",
       "    overflow: auto;\n",
       "  }\n",
       "  table, th, td {\n",
       "    border: 1px solid black;\n",
       "    border-collapse: collapse;\n",
       "  }\n",
       "  th, td {\n",
       "    padding: 5px;\n",
       "  }\n",
       "  th {\n",
       "    text-align: left;\n",
       "  }\n",
       "</style><div class='table-result-container'><table class='table-result'><thead style='background-color: white'><tr></tr></thead><tbody></tbody></table></div>"
      ]
     },
     "metadata": {
      "application/vnd.databricks.v1+output": {
       "addedWidgets": {},
       "aggData": [],
       "aggError": "",
       "aggOverflow": false,
       "aggSchema": [],
       "aggSeriesLimitReached": false,
       "aggType": "",
       "arguments": {},
       "columnCustomDisplayInfos": {},
       "data": [],
       "datasetInfos": [],
       "dbfsResultPath": null,
       "isJsonSchema": true,
       "metadata": {},
       "overflow": false,
       "plotOptions": {
        "customPlotOptions": {},
        "displayType": "table",
        "pivotAggregation": null,
        "pivotColumns": null,
        "xColumns": null,
        "yColumns": null
       },
       "removedWidgets": [],
       "schema": [],
       "type": "table"
      }
     },
     "output_type": "display_data"
    }
   ],
   "source": [
    "%sql\n",
    "DROP TABLE IF EXISTS product;\n",
    "CREATE  TABLE IF NOT EXISTS `product` (\n",
    "  `productCode` STRING,\n",
    "  `productName` STRING,\n",
    "  `productLine` STRING,\n",
    "  `productScale` STRING,\n",
    "  `productVendor` STRING,\n",
    "  `productDescription` STRING,\n",
    "  `quantityInStock` INT,\n",
    "  `buyPrice` DOUBLE,\n",
    "  `MSRP` DOUBLE,\n",
    "  `createdDate` TIMESTAMP,\n",
    "  `createdBy` STRING,\n",
    "  `updatedDate` TIMESTAMP,\n",
    "  `updatedBy` STRING)\n",
    "USING delta;"
   ]
  },
  {
   "cell_type": "markdown",
   "metadata": {
    "application/vnd.databricks.v1+cell": {
     "cellMetadata": {
      "byteLimit": 2048000,
      "rowLimit": 10000
     },
     "inputWidgets": {},
     "nuid": "29c4a9e6-b272-40a2-9491-1053f8783b4f",
     "showTitle": false,
     "title": ""
    }
   },
   "source": [
    "##### Creating `pyspark Schema` for product table to avoid datatypes issues while reading data."
   ]
  },
  {
   "cell_type": "code",
   "execution_count": 0,
   "metadata": {
    "application/vnd.databricks.v1+cell": {
     "cellMetadata": {
      "byteLimit": 2048000,
      "rowLimit": 10000
     },
     "inputWidgets": {},
     "nuid": "bdce0593-6da5-4628-98be-07f6771389fb",
     "showTitle": false,
     "title": ""
    }
   },
   "outputs": [],
   "source": [
    "from pyspark.sql.types import StringType,IntegerType,DoubleType,StructField,StructType\n",
    "product_schema= StructType([StructField(\"productCode\",StringType(),True),\n",
    "                            StructField(\"productName\",StringType(),True),\n",
    "                            StructField(\"productLine\",StringType(),True),\n",
    "                            StructField(\"productScale\",StringType(),True),\n",
    "                            StructField(\"productVendor\",StringType(),True),\n",
    "                            StructField(\"productDescription\",StringType(),True),\n",
    "                            StructField(\"quantityInStock\",IntegerType(),True),\n",
    "                            StructField(\"buyPrice\",DoubleType(),True),\n",
    "                            StructField(\"MSRP\",DoubleType(),True)])"
   ]
  },
  {
   "cell_type": "code",
   "execution_count": 0,
   "metadata": {
    "application/vnd.databricks.v1+cell": {
     "cellMetadata": {
      "byteLimit": 2048000,
      "rowLimit": 10000
     },
     "inputWidgets": {},
     "nuid": "726d5f6d-4921-4804-975b-c574c537739d",
     "showTitle": false,
     "title": ""
    }
   },
   "outputs": [],
   "source": [
    "product_badpath=\"/tmp/productsBadPath/\"\n",
    "product_source_file=\"dbfs:/FileStore/products/product.txt\"\n",
    "product_delimiter=\"\\t\"\n",
    "product_delta_file=\"dbfs:/FileStore/products/product_delta.txt\""
   ]
  },
  {
   "cell_type": "code",
   "execution_count": 0,
   "metadata": {
    "application/vnd.databricks.v1+cell": {
     "cellMetadata": {
      "byteLimit": 2048000,
      "rowLimit": 10000
     },
     "inputWidgets": {},
     "nuid": "08dc4d3d-edd9-4418-a113-be6244406a0f",
     "showTitle": false,
     "title": ""
    }
   },
   "outputs": [
    {
     "output_type": "stream",
     "name": "stdout",
     "output_type": "stream",
     "text": [
      "Out[12]: ('/tmp/product.txt', <http.client.HTTPMessage at 0x7f26acddecd0>)"
     ]
    }
   ],
   "source": [
    "import urllib.request\n",
    "urllib.request.urlretrieve(\"https://raw.githubusercontent.com/master/poc_product/product.txt\",\"/tmp/product.txt\")\n",
    "\n"
   ]
  },
  {
   "cell_type": "code",
   "execution_count": 0,
   "metadata": {
    "application/vnd.databricks.v1+cell": {
     "cellMetadata": {
      "byteLimit": 2048000,
      "rowLimit": 10000
     },
     "inputWidgets": {},
     "nuid": "7783f9c9-a042-4089-8329-09382baea55e",
     "showTitle": false,
     "title": ""
    }
   },
   "outputs": [
    {
     "output_type": "stream",
     "name": "stdout",
     "output_type": "stream",
     "text": [
      "Rserv\nRtmp5kSE6D\nchauffeur-daemon-params\nchauffeur-daemon.pid\nchauffeur-env.sh\ncustom-spark.conf\ndriver-daemon-params\ndriver-daemon.pid\ndriver-env.sh\nhsperfdata_root\nproduct.txt\npython_lsp_logs\nsystemd-private-8927e32899474482ba02ddf53f93f375-apache2.service-CT8Qaf\nsystemd-private-8927e32899474482ba02ddf53f93f375-ntp.service-zG260h\nsystemd-private-8927e32899474482ba02ddf53f93f375-systemd-logind.service-tpValg\nsystemd-private-8927e32899474482ba02ddf53f93f375-systemd-resolved.service-MOSj9h\ntmp.urlF6ZWtFs\n"
     ]
    }
   ],
   "source": [
    "%sh\n",
    "ls /tmp"
   ]
  },
  {
   "cell_type": "code",
   "execution_count": 0,
   "metadata": {
    "application/vnd.databricks.v1+cell": {
     "cellMetadata": {
      "byteLimit": 2048000,
      "rowLimit": 10000
     },
     "inputWidgets": {},
     "nuid": "b8768644-c019-4ceb-9ec1-cd815325fad7",
     "showTitle": false,
     "title": ""
    }
   },
   "outputs": [
    {
     "output_type": "display_data",
     "data": {
      "text/html": [
       "<style scoped>\n",
       "  .table-result-container {\n",
       "    max-height: 300px;\n",
       "    overflow: auto;\n",
       "  }\n",
       "  table, th, td {\n",
       "    border: 1px solid black;\n",
       "    border-collapse: collapse;\n",
       "  }\n",
       "  th, td {\n",
       "    padding: 5px;\n",
       "  }\n",
       "  th {\n",
       "    text-align: left;\n",
       "  }\n",
       "</style><div class='table-result-container'><table class='table-result'><thead style='background-color: white'><tr><th>path</th><th>name</th><th>size</th><th>modificationTime</th></tr></thead><tbody><tr><td>dbfs:/FileStore/products/product.txt</td><td>product.txt</td><td>29497</td><td>1706779608000</td></tr><tr><td>dbfs:/FileStore/products/product_delta.txt</td><td>product_delta.txt</td><td>861</td><td>1706779611000</td></tr></tbody></table></div>"
      ]
     },
     "metadata": {
      "application/vnd.databricks.v1+output": {
       "addedWidgets": {},
       "aggData": [],
       "aggError": "",
       "aggOverflow": false,
       "aggSchema": [],
       "aggSeriesLimitReached": false,
       "aggType": "",
       "arguments": {},
       "columnCustomDisplayInfos": {},
       "data": [
        [
         "dbfs:/FileStore/products/product.txt",
         "product.txt",
         29497,
         1706779608000
        ],
        [
         "dbfs:/FileStore/products/product_delta.txt",
         "product_delta.txt",
         861,
         1706779611000
        ]
       ],
       "datasetInfos": [],
       "dbfsResultPath": null,
       "isJsonSchema": true,
       "metadata": {
        "isDbfsCommandResult": false
       },
       "overflow": false,
       "plotOptions": {
        "customPlotOptions": {},
        "displayType": "table",
        "pivotAggregation": null,
        "pivotColumns": null,
        "xColumns": null,
        "yColumns": null
       },
       "removedWidgets": [],
       "schema": [
        {
         "metadata": "{}",
         "name": "path",
         "type": "\"string\""
        },
        {
         "metadata": "{}",
         "name": "name",
         "type": "\"string\""
        },
        {
         "metadata": "{}",
         "name": "size",
         "type": "\"long\""
        },
        {
         "metadata": "{}",
         "name": "modificationTime",
         "type": "\"long\""
        }
       ],
       "type": "table"
      }
     },
     "output_type": "display_data"
    }
   ],
   "source": [
    "%fs ls dbfs:/FileStore/products/"
   ]
  },
  {
   "cell_type": "code",
   "execution_count": 0,
   "metadata": {
    "application/vnd.databricks.v1+cell": {
     "cellMetadata": {
      "byteLimit": 2048000,
      "rowLimit": 10000
     },
     "inputWidgets": {},
     "nuid": "3ba42306-f023-41a3-a8f6-a29583e43159",
     "showTitle": false,
     "title": ""
    }
   },
   "outputs": [
    {
     "output_type": "stream",
     "name": "stdout",
     "output_type": "stream",
     "text": [
      "Out[14]: True"
     ]
    }
   ],
   "source": [
    "dbutils.fs.mv(\"file:/tmp/product.txt\",\"dbfs:/FileStore/products/product.txt\")"
   ]
  },
  {
   "cell_type": "code",
   "execution_count": 0,
   "metadata": {
    "application/vnd.databricks.v1+cell": {
     "cellMetadata": {
      "byteLimit": 2048000,
      "rowLimit": 10000
     },
     "inputWidgets": {},
     "nuid": "18debf8e-8f9f-4313-9c62-37f39c2a0d34",
     "showTitle": false,
     "title": ""
    }
   },
   "outputs": [
    {
     "output_type": "stream",
     "name": "stdout",
     "output_type": "stream",
     "text": [
      "product files copied to  dbfs:/FileStore/products/product.txt\nproduct delta files copied to  dbfs:/FileStore/products/product_delta.txt\n"
     ]
    }
   ],
   "source": [
    "urllib.request.urlretrieve(\"https://raw.githubusercontent.com/master/poc_product/product_delta.txt\",\"/tmp/product_delta.txt\")\n",
    "dbutils.fs.mv(\"file:/tmp/product_delta.txt\",\"dbfs:/FileStore/products/product_delta.txt\")\n",
    "print('product files copied to ',product_source_file)\n",
    "print('product delta files copied to ',product_delta_file)"
   ]
  },
  {
   "cell_type": "code",
   "execution_count": 0,
   "metadata": {
    "application/vnd.databricks.v1+cell": {
     "cellMetadata": {
      "byteLimit": 2048000,
      "rowLimit": 10000
     },
     "inputWidgets": {},
     "nuid": "95890590-fa73-44fe-824e-f6db630f18e8",
     "showTitle": false,
     "title": ""
    }
   },
   "outputs": [
    {
     "output_type": "display_data",
     "data": {
      "text/html": [
       "<style scoped>\n",
       "  .ansiout {\n",
       "    display: block;\n",
       "    unicode-bidi: embed;\n",
       "    white-space: pre-wrap;\n",
       "    word-wrap: break-word;\n",
       "    word-break: break-all;\n",
       "    font-family: \"Menlo\", \"Monaco\", \"Consolas\", \"Ubuntu Mono\", \"Source Code Pro\", monospace;\n",
       "    font-size: 13px;\n",
       "    color: #555;\n",
       "    margin-left: 4px;\n",
       "    line-height: 19px;\n",
       "  }\n",
       "</style>\n",
       "<div class=\"ansiout\">productCode\tproductName\tproductLine\tproductScale\tproductVendor\tproductDescription\tquantityInStock\tbuyPrice\tMSRP\r\n",
       "S10_1678\t1969 Harley Davidson Ultimate Chopper\tMotorcycles\t01:10\tMin Lin Diecast\t&quot;Updated Quantity, Buy Price and MSRP&quot;\t9833\t51.81\t99\r\n",
       "S10_1949\t1952 Alpine Renault 1300\tClassic Cars\t01:10\tClassic Metal Creations\t&quot;Updated Quantity, Buy Price and MSRP&quot;\t8000\t99\t235\r\n",
       "S10_9001\t1952 Alpine Renault 1500\tClassic Cars\t01:10\tClassic Metal Creations\t&quot;Turnable front wheels, steering function, detailed interior, detailed engine, opening hood, opening trunk, opening doors, and detailed chassis.&quot;\t7305\t102.58\t315.3\r\n",
       "S10_9002\t1952 Alpine Renault 1600\tClassic Cars\t01:10\tClassic Metal Creations\t&quot;Turnable front wheels, steering function, detailed interior, detailed engine, opening hood, opening trunk, opening doors, and detailed chassis.&quot;\t7305\t110.58\t615.3\r\n",
       "\n",
       "</div>"
      ]
     },
     "metadata": {
      "application/vnd.databricks.v1+output": {
       "addedWidgets": {},
       "arguments": {},
       "data": "<div class=\"ansiout\">productCode\tproductName\tproductLine\tproductScale\tproductVendor\tproductDescription\tquantityInStock\tbuyPrice\tMSRP\r\nS10_1678\t1969 Harley Davidson Ultimate Chopper\tMotorcycles\t01:10\tMin Lin Diecast\t&quot;Updated Quantity, Buy Price and MSRP&quot;\t9833\t51.81\t99\r\nS10_1949\t1952 Alpine Renault 1300\tClassic Cars\t01:10\tClassic Metal Creations\t&quot;Updated Quantity, Buy Price and MSRP&quot;\t8000\t99\t235\r\nS10_9001\t1952 Alpine Renault 1500\tClassic Cars\t01:10\tClassic Metal Creations\t&quot;Turnable front wheels, steering function, detailed interior, detailed engine, opening hood, opening trunk, opening doors, and detailed chassis.&quot;\t7305\t102.58\t315.3\r\nS10_9002\t1952 Alpine Renault 1600\tClassic Cars\t01:10\tClassic Metal Creations\t&quot;Turnable front wheels, steering function, detailed interior, detailed engine, opening hood, opening trunk, opening doors, and detailed chassis.&quot;\t7305\t110.58\t615.3\r\n\n</div>",
       "datasetInfos": [],
       "metadata": {
        "isDbfsCommandResult": false
       },
       "removedWidgets": [],
       "type": "html"
      }
     },
     "output_type": "display_data"
    }
   ],
   "source": [
    "%fs head dbfs:/FileStore/products/product_delta.txt"
   ]
  },
  {
   "cell_type": "code",
   "execution_count": 0,
   "metadata": {
    "application/vnd.databricks.v1+cell": {
     "cellMetadata": {
      "byteLimit": 2048000,
      "rowLimit": 10000
     },
     "inputWidgets": {},
     "nuid": "09d89838-bb3c-4723-a9d8-b576612d67a8",
     "showTitle": false,
     "title": ""
    }
   },
   "outputs": [
    {
     "output_type": "display_data",
     "data": {
      "text/html": [
       "<style scoped>\n",
       "  .ansiout {\n",
       "    display: block;\n",
       "    unicode-bidi: embed;\n",
       "    white-space: pre-wrap;\n",
       "    word-wrap: break-word;\n",
       "    word-break: break-all;\n",
       "    font-family: \"Menlo\", \"Monaco\", \"Consolas\", \"Ubuntu Mono\", \"Source Code Pro\", monospace;\n",
       "    font-size: 13px;\n",
       "    color: #555;\n",
       "    margin-left: 4px;\n",
       "    line-height: 19px;\n",
       "  }\n",
       "</style>\n",
       "<div class=\"ansiout\">productCode\tproductName\tproductLine\tproductScale\tproductVendor\tproductDescription\tquantityInStock\tbuyPrice\tMSRP\r\n",
       "S10_1678\t1969 Harley Davidson Ultimate Chopper\tMotorcycles\t01:10\tMin Lin Diecast\t&quot;Updated Quantity, Buy Price and MSRP&quot;\t9833\t51.81\t99\r\n",
       "S10_1949\t1952 Alpine Renault 1300\tClassic Cars\t01:10\tClassic Metal Creations\t&quot;Updated Quantity, Buy Price and MSRP&quot;\t8000\t99\t235\r\n",
       "S10_9001\t1952 Alpine Renault 1500\tClassic Cars\t01:10\tClassic Metal Creations\t&quot;Turnable front wheels, steering function, detailed interior, detailed engine, opening hood, opening trunk, opening doors, and detailed chassis.&quot;\t7305\t102.58\t315.3\r\n",
       "S10_9002\t1952 Alpine Renault 1600\tClassic Cars\t01:10\tClassic Metal Creations\t&quot;Turnable front wheels, steering function, detailed interior, detailed engine, opening hood, opening trunk, opening doors, and detailed chassis.&quot;\t7305\t110.58\t615.3\r\n",
       "\n",
       "</div>"
      ]
     },
     "metadata": {
      "application/vnd.databricks.v1+output": {
       "addedWidgets": {},
       "arguments": {},
       "data": "<div class=\"ansiout\">productCode\tproductName\tproductLine\tproductScale\tproductVendor\tproductDescription\tquantityInStock\tbuyPrice\tMSRP\r\nS10_1678\t1969 Harley Davidson Ultimate Chopper\tMotorcycles\t01:10\tMin Lin Diecast\t&quot;Updated Quantity, Buy Price and MSRP&quot;\t9833\t51.81\t99\r\nS10_1949\t1952 Alpine Renault 1300\tClassic Cars\t01:10\tClassic Metal Creations\t&quot;Updated Quantity, Buy Price and MSRP&quot;\t8000\t99\t235\r\nS10_9001\t1952 Alpine Renault 1500\tClassic Cars\t01:10\tClassic Metal Creations\t&quot;Turnable front wheels, steering function, detailed interior, detailed engine, opening hood, opening trunk, opening doors, and detailed chassis.&quot;\t7305\t102.58\t315.3\r\nS10_9002\t1952 Alpine Renault 1600\tClassic Cars\t01:10\tClassic Metal Creations\t&quot;Turnable front wheels, steering function, detailed interior, detailed engine, opening hood, opening trunk, opening doors, and detailed chassis.&quot;\t7305\t110.58\t615.3\r\n\n</div>",
       "datasetInfos": [],
       "metadata": {
        "isDbfsCommandResult": false
       },
       "removedWidgets": [],
       "type": "html"
      }
     },
     "output_type": "display_data"
    }
   ],
   "source": [
    "%fs head dbfs:/FileStore/products/product_delta.txt"
   ]
  },
  {
   "cell_type": "code",
   "execution_count": 0,
   "metadata": {
    "application/vnd.databricks.v1+cell": {
     "cellMetadata": {
      "byteLimit": 2048000,
      "rowLimit": 10000
     },
     "inputWidgets": {},
     "nuid": "151da92c-692a-42e5-a6a2-7fa1f0f7ec62",
     "showTitle": false,
     "title": ""
    }
   },
   "outputs": [
    {
     "output_type": "display_data",
     "data": {
      "text/html": [
       "<style scoped>\n",
       "  .ansiout {\n",
       "    display: block;\n",
       "    unicode-bidi: embed;\n",
       "    white-space: pre-wrap;\n",
       "    word-wrap: break-word;\n",
       "    word-break: break-all;\n",
       "    font-family: \"Menlo\", \"Monaco\", \"Consolas\", \"Ubuntu Mono\", \"Source Code Pro\", monospace;\n",
       "    font-size: 13px;\n",
       "    color: #555;\n",
       "    margin-left: 4px;\n",
       "    line-height: 19px;\n",
       "  }\n",
       "</style>\n",
       "<div class=\"ansiout\">productCode\tproductName\tproductLine\tproductScale\tproductVendor\tproductDescription\tquantityInStock\tbuyPrice\tMSRP\n",
       "S10_1678\t1969 Harley Davidson Ultimate Chopper\tMotorcycles\t01:10\tMin Lin Diecast\t&quot;This replica features working kickstand, front suspension, gear-shift lever, footbrake lever, drive chain, wheels and steering. All parts are particularly delicate due to their precise scale and require special care and attention.&quot;\t7933\t48.81\t95.7\n",
       "S10_1949\t1952 Alpine Renault 1300\tClassic Cars\t01:10\tClassic Metal Creations\t&quot;Turnable front wheels, steering function, detailed interior, detailed engine, opening hood, opening trunk, opening doors, and detailed chassis.&quot;\t7305\t98.58\t214.3\n",
       "S10_2016\t1996 Moto Guzzi 1100i\tMotorcycles\t01:10\tHighway 66 Mini Classics\t&quot;Official Moto Guzzi logos and insignias, saddle bags located on side of motorcycle, detailed engine, working steering, working suspension, two leather seats, luggage rack, dual exhaust pipes, small saddle bag located on handle bars, two-tone paint with chrome accents, superior die-cast detail , rotating wheels , working kick stand, diecast metal with plastic parts and baked enamel finish.&quot;\t6625\t68.99\t118.94\n",
       "S10_4698\t2003 Harley-Davidson Eagle Drag Bike\tMotorcycles\t01:10\tRed Start Diecast\t&quot;Model features, official Harley Davidson logos and insignias, detachable rear wheelie bar, heavy diecast metal with resin parts, authentic multi-color tampo-printed graphics, separate engine drive belts, free-turning front fork, rotating tires and rear racing slick, certificate of authenticity, detailed engine, display stand\\r\\n, precision diecast replica, baked enamel finish, 1:10 scale model, removable fender, seat and tank cover piece for displaying the superior detail of the v-twin engine&quot;\t5582\t91.02\t193.66\n",
       "S10_4757\t1972 Alfa Romeo GTA\tClassic Cars\t01:10\tMotor City Art Classics\t&quot;Features include: Turnable front wheels, steering function, detailed interior, detailed engine, opening hood, opening trunk, opening doors, and detailed chassis.&quot;\t3252\t85.68\t136\n",
       "S10_4962\t1962 LanciaA Delta 16V\tClassic Cars\t01:10\tSecond Gear Diecast\t&quot;Features include: Turnable front wheels, steering function, detailed interior, detailed engine, opening hood, opening trunk, opening doors, and detailed chassis.&quot;\t6791\t103.42\t147.74\n",
       "S12_1099\t1968 Ford Mustang\tClassic Cars\t01:12\tAutoart Studio Design\t&quot;Hood, doors and trunk all open to reveal highly detailed interior features. Steering wheel actually turns the front wheels. Color dark green.&quot;\t68\t95.34\t194.57\n",
       "S12_1108\t2001 Ferrari Enzo\tClassic Cars\t01:12\tSecond Gear Diecast\t&quot;Turnable front wheels, steering function, detailed interior, detailed engine, opening hood, opening trunk, opening doors, and detailed chassis.&quot;\t3619\t95.59\t207.8\n",
       "S12_1666\t1958 Setra Bus\tTrucks and Buses\t01:12\tWelly Diecast Productions\t&quot;Model features 30 windows, skylights &amp; glare resistant glass, working steering system, original logos&quot;\t1579\t77.9\t136.67\n",
       "S12_2823\t2002 Suzuki XREO\tMotorcycles\t01:12\tUnimax Art Galleries\t&quot;Official logos and insignias, saddle bags located on side of motorcycle, detailed engine, working steering, working suspension, two leather seats, luggage rack, dual exhaust pipes, small saddle bag located on handle bars, two-tone paint with chrome accents, superior die-cast detail , rotating wheels , working kick stand, diecast metal with plastic parts and baked enamel finish.&quot;\t9997\t66.27\t150.62\n",
       "S12_3148\t1969 Corvair Monza\tClassic Cars\t01:18\tWelly Diecast Productions\t&quot;1:18 scale die-cast about 10\\&quot;&quot; long doors open, hood opens, trunk opens and wheels roll&quot;\t6906\t89.14\t151.08\n",
       "S12_3380\t1968 Dodge Charger\tClassic Cars\t01:12\tWelly Diecast Productions\t&quot;1:12 scale model of a 1968 Dodge Charger. Hood, doors and trunk all open to reveal highly detailed interior features. Steering wheel actually turns the front wheels. Color black&quot;\t9123\t75.16\t117.44\n",
       "S12_3891\t1969 Ford Falcon\tClassic Cars\t01:12\tSecond Gear Diecast\t&quot;Turnable front wheels, steering function, detailed interior, detailed engine, opening hood, opening trunk, opening doors, and detailed chassis.&quot;\t1049\t83.05\t173.02\n",
       "S12_3990\t1970 Plymouth Hemi Cuda\tClassic Cars\t01:12\tStudio M Art Models\tVery detailed 1970 Plymouth Cuda model in 1:12 scale. The Cuda is generally accepted as one of the fastest original muscle cars from the 1970s. This model is a reproduction of one of the orginal 652 cars built in 1970. Red color.\t5663\t31.92\t79.8\n",
       "S12_4473\t1957 Chevy Pickup\tTrucks and Buses\t01:12\tExoto Designs\t&quot;1:12 scale die-cast about 20\\&quot;&quot; long Hood opens, Rubber wheels&quot;\t6125\t55.7\t118.5\n",
       "S12_4675\t1969 Dodge Charger\tClassic Cars\t01:12\tWelly Diecast Productions\tDetailed model of the 1969 Dodge Charger. This model includes finely detailed interior and exterior features. Painted in red and white.\t7323\t58.73\t115.16\n",
       "S18_1097\t1940 Ford Pickup Truck\tTrucks and Buses\t01:18\tStudio M Art Models\t&quot;This model features soft rubber tires, working steering, rubber mud guards, authentic Ford logos, detailed undercarriage, opening doors and hood,  removable split rear gate, full size spare mounted in bed, detailed interior with opening glove box&quot;\t2613\t58.33\t116.67\n",
       "S18_1129\t1993 Mazda RX-7\tClassic Cars\t01:18\tHighway 66 Mini Classics\t&quot;This model features, opening hood, opening doors, detailed engine, rear spoiler, opening trunk, working steering, tinted windows, baked enamel finish. Color red.&quot;\t3975\t83.51\t141.54\n",
       "S18_1342\t1937 Lincoln Berline\tVintage Cars\t01:18\tMotor City Art Classics\t&quot;Features opening engine cover, doors, trunk, and fuel filler cap. Color black&quot;\t8693\t60.62\t102.74\n",
       "S18_1367\t1936 Mercedes-Benz 500K Special Roadster\tVintage Cars\t01:18\tStudio M Art Models\t&quot;This 1:18 scale replica is constructed of heavy die-cast metal and has all the features of the original: working doors and rumble seat, independent spring suspension, detailed interior, working steering system, and a bifold hood that reveals an engine so accurate that it even includes the wiring. All this is topped off with a baked enamel finish. Color white.&quot;\t8635\t24.26\t53.91\n",
       "S18_1589\t1965 Aston Martin DB5\tClassic Cars\t01:18\tClassic Metal Creations\t&quot;Die-cast model of the silver 1965 Aston Martin DB5 in silver. This model includes full wire wheels and doors that open with fully detailed passenger compartment. In 1:18 scale, this model measures approximately 10 inches/20 cm long.&quot;\t9042\t65.96\t124.44\n",
       "S18_1662\t1980s Black Hawk Helicopter\tPlanes\t01:18\tRed Start Diecast\t&quot;1:18 scale replica of actual Army\\'s UH-60L BLACK HAWK Helicopter. 100% hand-assembled. Features rotating rotor blades, propeller blades and rubber wheels.&quot;\t5330\t77.27\t157.69\n",
       "S18_1749\t1917 Grand Touring Sedan\tVintage Cars\t01:18\tWelly Diecast Productions\t&quot;This 1:18 scale replica of the 1917 Grand Touring car has all the features you would expect from museum quality reproductions: all four doors and bi-fold hood opening, detailed engine and instrument panel, chrome-look trim, and tufted upholstery, all topped off with a factory baked-enamel finish.&quot;\t2724\t86.7\t170\n",
       "S18_1889\t1948 Porsche 356-A Roadster\tClassic Cars\t01:18\tGearbox Collectibles\t&quot;This precision die-cast replica features opening doors, superb detail and craftsmanship, working steering system, opening forward compartment, opening rear trunk with removable spare, 4 wheel independent spring suspension as well as factory baked enamel finish.&quot;\t8826\t53.9\t77\n",
       "S18_1984\t1995 Honda Civic\tClassic Cars\t01:18\tMin Lin Diecast\t&quot;This model features, opening hood, opening doors, detailed engine, rear spoiler, opening trunk, working steering, tinted windows, baked enamel finish. Color yellow.&quot;\t9772\t93.89\t142.25\n",
       "S18_2238\t1998 Chrysler Plymouth Prowler\tClassic Cars\t01:18\tGearbox Collectibles\t&quot;Turnable front wheels, steering function, detailed interior, detailed engine, opening hood, opening trunk, opening doors, and detailed chassis.&quot;\t4724\t101.51\t163.73\n",
       "S18_2248\t1911 Ford Town Car\tVintage Cars\t01:18\tMotor City Art Classics\t&quot;Features opening hood, opening doors, opening trunk, wide white wall tires, front door arm rests, working steering system.&quot;\t540\t33.3\t60.54\n",
       "S18_2319\t1964 Mercedes Tour Bus\tTrucks and Buses\t01:18\tUnimax Art Galleries\t&quot;Exact replica. 100+ parts. working steering system, original logos&quot;\t8258\t74.86\t122.73\n",
       "S18_2325\t1932 Model A Ford J-Coupe\tVintage Cars\t01:18\tAutoart Studio Design\t&quot;This model features grille-mounted chrome horn, lift-up louvered hood, fold-down rumble seat, working steering system, chrome-covered spare, opening doors, detailed and wired engine&quot;\t9354\t58.48\t127.13\n",
       "S18_2432\t1926 Ford Fire Engine\tTrucks and Buses\t01:18\tCarousel DieCast Legends\t&quot;Gleaming red handsome appearance. Everything is here the fire hoses, ladder, axes, bells, lanterns, ready to fight any inferno.&quot;\t2018\t24.92\t60.77\n",
       "S18_2581\tP-51-D Mustang\tPlanes\t0.091666667\tGearbox Collectibles\tHas retractable wheels and comes with a stand\t992\t49\t84.48\n",
       "S18_2625\t1936 Harley Davidson El Knucklehead\tMotorcycles\t01:18\tWelly Diecast Productions\t&quot;Intricately detailed with chrome accents and trim, official die-struck logos and baked enamel finish.&quot;\t4357\t24.23\t60.57\n",
       "S18_2795\t1928 Mercedes-Benz SSK\tVintage Cars\t01:18\tGearbox Collectibles\t&quot;This 1:18 replica features grille-mounted chrome horn, lift-up louvered hood, fold-down rumble seat, working steering system, chrome-covered spare, opening doors, detailed and wired engine. Color black.&quot;\t548\t72.56\t168.75\n",
       "S18_2870\t1999 Indy 500 Monte Carlo SS\tClassic Cars\t01:18\tRed Start Diecast\tFeatures include opening and closing doors. Color: Red\t8164\t56.76\t132\n",
       "S18_2949\t1913 Ford Model T Speedster\tVintage Cars\t01:18\tCarousel DieCast Legends\t&quot;This 250 part reproduction includes moving handbrakes, clutch, throttle and foot pedals, squeezable horn, detailed wired engine, removable water, gas, and oil cans, pivoting monocle windshield, all topped with a baked enamel red finish. Each replica comes with an Owners Title and Certificate of Authenticity. Color red.&quot;\t4189\t60.78\t101.31\n",
       "S18_2957\t1934 Ford V8 Coupe\tVintage Cars\t01:18\tMin Lin Diecast\t&quot;Chrome Trim, Chrome Grille, Opening Hood, Opening Doors, Opening Trunk, Detailed Engine, Working Steering System&quot;\t5649\t34.35\t62.46\n",
       "S18_3029\t1999 Yamaha Speed Boat\tShips\t01:18\tMin Lin Diecast\t&quot;Exact replica. Wood and Metal. Many extras including rigging, long boats, pilot house, anchors, etc. Comes with three masts, all square-rigged.&quot;\t4259\t51.61\t86.02\n",
       "S18_3136\t18th Century Vintage Horse Carriage\tVintage Cars\t01:18\tRed Start Diecast\t&quot;Hand crafted diecast-like metal horse carriage is re-created in about 1:18 scale of antique horse carriage. This antique style metal Stagecoach is all hand-assembled with many different parts.\\r\\n\\r\\nThis collectible metal horse carriage is painted in classic Red, and features turning steering wheel and is entirely hand-finished.&quot;\t5992\t60.74\t104.72\n",
       "S18_3140\t1903 Ford Model A\tVintage Cars\t01:18\tUnimax Art Galleries\t&quot;Features opening trunk,  working steering system&quot;\t3913\t68.3\t136.59\n",
       "S18_3232\t1992 Ferrari 360 Spider red\tClassic Cars\t01:18\tUnimax Art Galleries\t&quot;his replica features opening doors, superb detail and craftsmanship, working steering system, opening forward compartment, opening rear trunk with removable spare, 4 wheel independent spring suspension as well as factory baked enamel finish.&quot;\t8347\t77.9\t169.34\n",
       "S18_3233\t1985 Toyota Supra\tClassic Cars\t01:18\tHighway 66 Mini Classics\t&quot;This model features soft rubber tires, working steering, rubber mud guards, authentic Ford logos, detailed undercarriage, opening doors and hood, removable split rear gate, full size spare mounted in bed, detailed interior with opening glove box&quot;\t7733\t57.01\t107.57\n",
       "S18_3259\tCollectable Wooden Train\tTrains\t01:18\tCarousel DieCast Legends\t&quot;Hand crafted wooden toy train set is in about 1:18 scale, 25 inches in total length including 2 additional carts, of actual vintage train. This antique style wooden toy train model set is all hand-assembled with 100% wood.&quot;\t6450\t67.56\t100.84\n",
       "S18_3278\t1969 Dodge Super Bee\tClassic Cars\t01:18\tMin Lin Diecast\t&quot;This replica features opening doors, superb detail and craftsmanship, working steering system, opening forward compartment, opening rear trunk with removable spare, 4 wheel independent spring suspension as well as factory baked enamel finish.&quot;\t1917\t49.05\t80.41\n",
       "S18_3320\t1917 Maxwell Touring Car\tVintage Cars\t01:18\tExoto Designs\t&quot;Features Gold Trim, Full Size Spare Tire, Chrome Trim, Chrome Grille, Opening Hood, Opening Doors, Opening Trunk, Detailed Engine, Working Steering System&quot;\t7913\t57.54\t99.21\n",
       "S18_3482\t1976 Ford Gran Torino\tClassic Cars\t01:18\tGearbox Collectibles\t&quot;Highly detailed 1976 Ford Gran Torino \\&quot;&quot;Starsky and Hutch\\&quot;&quot; diecast model. Very well constructed and painted in red and white patterns.&quot;\t9127\t73.49\t146.99\n",
       "S18_3685\t1948 Porsche Type 356 Roadster\tClassic Cars\t01:18\tGearbox Collectibles\t&quot;This model features working front and rear suspension on accurately replicated and actuating shock absorbers as well as opening engine cover, rear stabilizer flap,  and 4 opening doors.&quot;\t8990\t62.16\t141.28\n",
       "S18_3782\t1957 Vespa GS150\tMotorcycles\t01:18\tStudio M Art Models\t&quot;Features rotating wheels , working kick stand. Comes with stand.&quot;\t7689\t32.95\t62.17\n",
       "S18_3856\t1941 Chevrolet Special Deluxe Cabriolet\tVintage Cars\t01:18\tExoto Designs\t&quot;Features opening hood, opening doors, opening trunk, wide white wall tires, front door arm rests, working steering system, leather upholstery. Color black.&quot;\t2378\t64.58\t105.87\n",
       "S18_4027\t1970 Triumph Spitfire\tClassic Cars\t01:18\tMin Lin Diecast\tFeatures include opening and closing doors. Color: White.\t5545\t91.92\t143.62\n",
       "S18_4409\t1932 Alfa Romeo 8C2300 Spider Sport\tVintage Cars\t01:18\tExoto Designs\t&quot;This 1:18 scale precision die cast replica features the 6 front headlights of the original, plus a detailed version of the 142 horsepower straight 8 engine, dual spares and their famous comprehensive dashboard. Color black.&quot;\t6553\t43.26\t92.03\n",
       "S18_4522\t1904 Buick Runabout\tVintage Cars\t01:18\tExoto Designs\t&quot;Features opening trunk,  working steering system&quot;\t8290\t52.66\t87.77\n",
       "S18_4600\t1940s Ford truck\tTrucks and Buses\t01:18\tMotor City Art Classics\t&quot;This 1940s Ford Pick-Up truck is re-created in 1:18 scale of original 1940s Ford truck. This antique style metal 1940s Ford Flatbed truck is all hand-assembled. This collectible 1940\\'s Pick-Up truck is painted in classic dark green color, and features rotating wheels.&quot;\t3128\t84.76\t121.08\n",
       "S18_4668\t1939 Cadillac Limousine\tVintage Cars\t01:18\tStudio M Art Models\t&quot;Features completely detailed interior including Velvet flocked drapes,deluxe wood grain floor, and a wood grain casket with seperate chrome handles&quot;\t6645\t23.14\t50.31\n",
       "S18_4721\t1957 Corvette Convertible\tClassic Cars\t01:18\tClassic Metal Creations\t1957 die cast Corvette Convertible in Roman Red with white sides and whitewall tires. 1:18 scale quality die-cast with detailed engine and underbvody. Now you can own The Classic Corvette.\t1249\t69.93\t148.8\n",
       "S18_4933\t1957 Ford Thunderbird\tClassic Cars\t01:18\tStudio M Art Models\t&quot;This 1:18 scale precision die-cast replica, with its optional porthole hardtop and factory baked-enamel Thunderbird Bronze finish, is a 100% accurate rendition of this American classic.&quot;\t3209\t34.21\t71.27\n",
       "S24_1046\t1970 Chevy Chevelle SS 454\tClassic Cars\t01:24\tUnimax Art Galleries\t&quot;This model features rotating wheels, working streering system and opening doors. All parts are particularly delicate due to their precise scale and require special care and attention. It should not be picked up by the doors, roof, hood or trunk.&quot;\t1005\t49.24\t73.49\n",
       "S24_1444\t1970 Dodge Coronet\tClassic Cars\t01:24\tHighway 66 Mini Classics\t&quot;1:24 scale die-cast about 18\\&quot;&quot; long doors open, hood opens and rubber wheels&quot;\t4074\t32.37\t57.8\n",
       "S24_1578\t1997 BMW R 1100 S\tMotorcycles\t01:24\tAutoart Studio Design\tDetailed scale replica with working suspension and constructed from over 70 parts\t7003\t60.86\t112.7\n",
       "S24_1628\t1966 Shelby Cobra 427 S/C\tClassic Cars\t01:24\tCarousel DieCast Legends\tThis diecast model of the 1966 Shelby Cobra 427 S/C includes many authentic details and operating parts. The 1:24 scale model of this iconic lighweight sports car from the 1960s comes in silver and it\\'s own display case.\t8197\t29.18\t50.31\n",
       "S24_1785\t1928 British Royal Navy Airplane\tPlanes\t01:24\tClassic Metal Creations\tOfficial logos and insignias\t3627\t66.74\t109.42\n",
       "S24_1937\t1939 Chevrolet Deluxe Coupe\tVintage Cars\t01:24\tMotor City Art Classics\t&quot;This 1:24 scale die-cast replica of the 1939 Chevrolet Deluxe Coupe has the same classy look as the original. Features opening trunk, hood and doors and a showroom quality baked enamel finish.&quot;\t7332\t22.57\t33.19\n",
       "S24_2000\t1960 BSA Gold Star DBD34\tMotorcycles\t01:24\tHighway 66 Mini Classics\tDetailed scale replica with working suspension and constructed from over 70 parts\t15\t37.32\t76.17\n",
       "S24_2011\t18th century schooner\tShips\t01:24\tCarousel DieCast Legends\t&quot;All wood with canvas sails. Many extras including rigging, long boats, pilot house, anchors, etc. Comes with 4 masts, all square-rigged.&quot;\t1898\t82.34\t122.89\n",
       "S24_2022\t1938 Cadillac V-16 Presidential Limousine\tVintage Cars\t01:24\tClassic Metal Creations\t&quot;This 1:24 scale precision die cast replica of the 1938 Cadillac V-16 Presidential Limousine has all the details of the original, from the flags on the front to an opening back seat compartment complete with telephone and rifle. Features factory baked-enamel black finish, hood goddess ornament, working jump seats.&quot;\t2847\t20.61\t44.8\n",
       "S24_2300\t1962 Volkswagen Microbus\tTrucks and Buses\t01:24\tAutoart Studio Design\t&quot;This 1:18 scale die cast replica of the 1962 Microbus is loaded with features: A working steering system, opening front doors and tailgate, and famous two-tone factory baked enamel finish, are all topped of by the sliding, real fabric, sunroof.&quot;\t2327\t61.34\t127.79\n",
       "S24_2360\t1982 Ducati 900 Monster\tMotorcycles\t01:24\tHighway 66 Mini Classics\t&quot;Features two-tone paint with chrome accents, superior die-cast detail , rotating wheels , working kick stand&quot;\t6840\t47.1\t69.26\n",
       "S24_2766\t1949 Jaguar XK 120\tClassic Cars\t01:24\tClassic Metal Creations\t&quot;Precision-engineered from original Jaguar specification in perfect scale ratio. Features opening doors, superb detail and craftsmanship, working steering system, opening forward compartment, opening rear trunk with removable spare, 4 wheel independent spring suspension as well as factory baked enamel finish.&quot;\t2350\t47.25\t90.87\n",
       "S24_2840\t1958 Chevy Corvette Limited Edition\tClassic Cars\t01:24\tCarousel DieCast Legends\t&quot;The operating parts of this 1958 Chevy Corvette Limited Edition are particularly delicate due to their precise scale and require special care and attention. Features rotating wheels, working streering, opening doors and trunk. Color dark green.&quot;\t2542\t15.91\t35.36\n",
       "S24_2841\t1900s Vintage Bi-Plane\tPlanes\t01:24\tAutoart Studio Design\tHand crafted diecast-like metal bi-plane is re-created in about 1:24 scale of antique pioneer airplane. All hand-assembled with many different parts. Hand-painted in classic yellow and features correct markings of original airplane.\t5942\t34.25\t68.51\n",
       "S24_2887\t1952 Citroen-15CV\tClassic Cars\t01:24\tExoto Designs\t&quot;Precision crafted hand-assembled 1:18 scale reproduction of the 1952 15CV, with its independent spring suspension, working steering system, opening doors and hood, detailed engine and instrument panel, all topped of with a factory fresh baked enamel finish.&quot;\t1452\t72.82\t117.44\n",
       "S24_2972\t1982 Lamborghini Diablo\tClassic Cars\t01:24\tSecond Gear Diecast\t&quot;This replica features opening doors, superb detail and craftsmanship, working steering system, opening forward compartment, opening rear trunk with removable spare, 4 wheel independent spring suspension as well as factory baked enamel finish.&quot;\t7723\t16.24\t37.76\n",
       "S24_3151\t1912 Ford Model T Delivery Wagon\tVintage Cars\t01:24\tMin Lin Diecast\t&quot;This model features chrome trim and grille, opening hood, opening doors, opening trunk, detailed engine, working steering system. Color white.&quot;\t9173\t46.91\t88.51\n",
       "S24_3191\t1969 Chevrolet Camaro Z28\tClassic Cars\t01:24\tExoto Designs\t&quot;1969 Z/28 Chevy Camaro 1:24 scale replica. The operating parts of this limited edition 1:24 scale diecast model car 1969 Chevy Camaro Z28- hood, trunk, wheels, streering, suspension and doors- are particularly delicate due to their precise scale and require special care and attention.&quot;\t4695\t50.51\t85.61\n",
       "S24_3371\t1971 Alpine Renault 1600s\tClassic Cars\t01:24\tWelly Diecast Productions\t&quot;This 1971 Alpine Renault 1600s replica Features opening doors, superb detail and craftsmanship, working steering system, opening forward compartment, opening rear trunk with removable spare, 4 wheel independent spring suspension as well as factory baked enamel finish.&quot;\t7995\t38.58\t61.23\n",
       "S24_3420\t1937 Horch 930V Limousine\tVintage Cars\t01:24\tAutoart Studio Design\t&quot;Features opening hood, opening doors, opening trunk, wide white wall tires, front door arm rests, working steering system&quot;\t2902\t26.3\t65.75\n",
       "S24_3432\t2002 Chevy Corvette\tClassic Cars\t01:24\tGearbox Collectibles\t&quot;The operating parts of this limited edition Diecast 2002 Chevy Corvette 50th Anniversary Pace car Limited Edition are particularly delicate due to their precise scale and require special care and attention. Features rotating wheels, poseable streering, opening doors and trunk.&quot;\t9446\t62.11\t107.08\n",
       "S24_3816\t1940 Ford Delivery Sedan\tVintage Cars\t01:24\tCarousel DieCast Legends\t&quot;Chrome Trim, Chrome Grille, Opening Hood, Opening Doors, Opening Trunk, Detailed Engine, Working Steering System. Color black.&quot;\t6621\t48.64\t83.86\n",
       "S24_3856\t1956 Porsche 356A Coupe\tClassic Cars\t01:18\tClassic Metal Creations\t&quot;Features include: Turnable front wheels, steering function, detailed interior, detailed engine, opening hood, opening trunk, opening doors, and detailed chassis.&quot;\t6600\t98.3\t140.43\n",
       "S24_3949\tCorsair F4U ( Bird Cage)\tPlanes\t01:24\tSecond Gear Diecast\tHas retractable wheels and comes with a stand. Official logos and insignias.\t6812\t29.34\t68.24\n",
       "S24_3969\t1936 Mercedes Benz 500k Roadster\tVintage Cars\t01:24\tRed Start Diecast\t&quot;This model features grille-mounted chrome horn, lift-up louvered hood, fold-down rumble seat, working steering system and rubber wheels. Color black.&quot;\t2081\t21.75\t41.03\n",
       "S24_4048\t1992 Porsche Cayenne Turbo Silver\tClassic Cars\t01:24\tExoto Designs\t&quot;This replica features opening doors, superb detail and craftsmanship, working steering system, opening forward compartment, opening rear trunk with removable spare, 4 wheel independent spring suspension as well as factory baked enamel finish.&quot;\t6582\t69.78\t118.28\n",
       "S24_4258\t1936 Chrysler Airflow\tVintage Cars\t01:24\tSecond Gear Diecast\t&quot;Features opening trunk,  working steering system. Color dark green.&quot;\t4710\t57.46\t97.39\n",
       "S24_4278\t1900s Vintage Tri-Plane\tPlanes\t01:24\tUnimax Art Galleries\tHand crafted diecast-like metal Triplane is Re-created in about 1:24 scale of antique pioneer airplane. This antique style metal triplane is all hand-assembled with many different parts.\t2756\t36.23\t72.45\n",
       "S24_4620\t1961 Chevrolet Impala\tClassic Cars\t01:18\tClassic Metal Creations\t&quot;This 1:18 scale precision die-cast reproduction of the 1961 Chevrolet Impala has all the features-doors, hood and trunk that open; detailed 409 cubic-inch engine; chrome dashboard and stick shift, two-tone interior; working steering system; all topped of with a factory baked-enamel finish.&quot;\t7869\t32.33\t80.84\n",
       "S32_1268\t1980’s GM Manhattan Express\tTrucks and Buses\t01:32\tMotor City Art Classics\t&quot;This 1980’s era new look Manhattan express is still active, running from the Bronx to mid-town Manhattan. Has 35 opeining windows and working lights. Needs a battery.&quot;\t5099\t53.93\t96.31\n",
       "S32_1374\t1997 BMW F650 ST\tMotorcycles\t01:32\tExoto Designs\tFeatures official die-struck logos and baked enamel finish. Comes with stand.\t178\t66.92\t99.89\n",
       "S32_2206\t1982 Ducati 996 R\tMotorcycles\t01:32\tGearbox Collectibles\t&quot;Features rotating wheels , working kick stand. Comes with stand.&quot;\t9241\t24.14\t40.23\n",
       "S32_2509\t1954 Greyhound Scenicruiser\tTrucks and Buses\t01:32\tClassic Metal Creations\t&quot;Model features bi-level seating, 50 windows, skylights &amp; glare resistant glass, working steering system, original logos&quot;\t2874\t25.98\t54.11\n",
       "S32_3207\t1950\\'s Chicago Surface Lines Streetcar\tTrains\t01:32\tGearbox Collectibles\t&quot;This streetcar is a joy to see. It has 80 separate windows, electric wire guides, detailed interiors with seats, poles and drivers controls, rolling and turning wheel assemblies, plus authentic factory baked-enamel finishes (Green Hornet for Chicago and Cream and Crimson for Boston).&quot;\t8601\t26.72\t62.14\n",
       "S32_3522\t1996 Peterbilt 379 Stake Bed with Outrigger\tTrucks and Buses\t01:32\tRed Start Diecast\t&quot;This model features, opening doors, detailed engine, working steering, tinted windows, detailed interior, die-struck logos, removable stakes operating outriggers, detachable second trailer, functioning 360-degree self loader, precision molded resin trailer and trim, baked enamel finish on cab&quot;\t814\t33.61\t64.64\n",
       "S32_4289\t1928 Ford Phaeton Deluxe\tVintage Cars\t01:32\tHighway 66 Mini Classics\t&quot;This model features grille-mounted chrome horn, lift-up louvered hood, fold-down rumble seat, working steering system&quot;\t136\t33.02\t68.79\n",
       "S32_4485\t1974 Ducati 350 Mk3 Desmo\tMotorcycles\t01:32\tSecond Gear Diecast\t&quot;This model features two-tone paint with chrome accents, superior die-cast detail , rotating wheels , working kick stand&quot;\t3341\t56.13\t102.05\n",
       "S50_1341\t1930 Buick Marquette Phaeton\tVintage Cars\t01:50\tStudio M Art Models\t&quot;Features opening trunk,  working steering system&quot;\t7062\t27.06\t43.64\n",
       "S50_1392\tDiamond T620 Semi-Skirted Tanker\tTrucks and Buses\t01:50\tHighway 66 Mini Classics\tThis limited edition model is licensed and perfectly scaled for Lionel Trains. The Diamond T620 has been produced in solid precision diecast and painted with a fire baked enamel finish. It comes with a removable tanker and is a perfect model to add authenticity to your static train or car layout or to just have on display.\t1016\t68.29\t115.75\n",
       "S50_1514\t1962 City of Detroit Streetcar\tTrains\t01:50\tClassic Metal Creations\t&quot;This streetcar is a joy to see. It has 99 separate windows, electric wire guides, detailed interiors with seats, poles and drivers controls, rolling and turning wheel assemblies, plus authentic factory baked-enamel finishes (Green Hornet for Chicago and Cream and Crimson for Boston).&quot;\t1645\t37.49\t58.58\n",
       "S50_4713\t2002 Yamaha YZR M1\tMotorcycles\t01:50\tAutoart Studio Design\t&quot;Features rotating wheels , working kick stand. Comes with stand.&quot;\t600\t34.17\t81.36\n",
       "S700_1138\tThe Schooner Bluenose\tShips\t0.527777778\tAutoart Studio Design\t&quot;All wood with canvas sails. Measures 31 1/2 inches in Length, 22 inches High and 4 3/4 inches Wide. Many extras.\\r\\nThe schooner Bluenose was built in Nova Scotia in 1921 to fish the rough waters off the coast of Newfoundland. Because of the Bluenose racing prowess she became the pride of all Canadians. Still featured on stamps and the Canadian dime, the Bluenose was lost off Haiti in 1946.&quot;\t1897\t34\t66.67\n",
       "S700_1691\tAmerican Airlines: B767-300\tPlanes\t0.527777778\tMin Lin Diecast\tExact replia with official logos and insignias and retractable wheels\t5841\t51.15\t91.34\n",
       "S700_1938\tThe Mayflower\tShips\t0.527777778\tStudio M Art Models\t&quot;Measures 31 1/2 inches Long x 25 1/2 inches High x 10 5/8 inches Wide\\r\\nAll wood with canvas sail. Extras include long boats, rigging, ladders, railing, anchors, side cannons, hand painted, etc.&quot;\t737\t43.3\t86.61\n",
       "S700_2047\tHMS Bounty\tShips\t0.527777778\tUnimax Art Galleries\t&quot;Measures 30 inches Long x 27 1/2 inches High x 4 3/4 inches Wide. \\r\\nMany extras including rigging, long boats, pilot house, anchors, etc. Comes with three masts, all square-rigged.&quot;\t3501\t39.83\t90.52\n",
       "S700_2466\tAmerica West Airlines B757-200\tPlanes\t0.527777778\tMotor City Art Classics\tOfficial logos and insignias. Working steering system. Rotating jet engines\t9653\t68.8\t99.72\n",
       "S700_2610\tThe USS Constitution Ship\tShips\t0.527777778\tRed Start Diecast\t&quot;All wood with canvas sails. Measures 31 1/2\\&quot;&quot; Length x 22 3/8\\&quot;&quot; High x 8 1/4\\&quot;&quot; Width. Extras include 4 boats on deck, sea sprite on bow, anchors, copper railing, pilot houses, etc.&quot;\t7083\t33.97\t72.28\n",
       "S700_2824\t1982 Camaro Z28\tClassic Cars\t01:18\tCarousel DieCast Legends\t&quot;Features include opening and closing doors. Color: White. \\r\\nMeasures approximately 9 1/2\\&quot;&quot; Long.&quot;\t6934\t46.53\t101.15\n",
       "S700_2834\tATA: B757-300\tPlanes\t0.527777778\tHighway 66 Mini Classics\tExact replia with official logos and insignias and retractable wheels\t7106\t59.33\t118.65\n",
       "S700_3167\tF/A 18 Hornet 1/72\tPlanes\t0.091666667\tMotor City Art Classics\t&quot;10\\&quot;&quot; Wingspan with retractable landing gears.Comes with pilot&quot;\t551\t54.4\t80\n",
       "S700_3505\tThe Titanic\tShips\t0.527777778\tCarousel DieCast Legends\t&quot;Completed model measures 19 1/2 inches long, 9 inches high, 3inches wide and is in barn red/black. All wood and metal.&quot;\t1956\t51.09\t100.17\n",
       "S700_3962\tThe Queen Mary\tShips\t0.527777778\tWelly Diecast Productions\t&quot;Exact replica. Wood and Metal. Many extras including rigging, long boats, pilot house, anchors, etc. Comes with three masts, all square-rigged.&quot;\t5088\t53.63\t99.31\n",
       "S700_4002\tAmerican Airlines: MD-11S\tPlanes\t0.527777778\tSecond Gear Diecast\tPolished finish. Exact replia with official logos and insignias and retractable wheels\t8820\t36.27\t74.03\n",
       "S72_1253\tBoeing X-32A JSF\tPlanes\t0.091666667\tMotor City Art Classics\t&quot;10\\&quot;&quot; Wingspan with retractable landing gears.Comes with pilot&quot;\t4857\t32.77\t49.66\n",
       "S72_3212\tPont Yacht\tShips\t0.091666667\tUnimax Art Galleries\t&quot;Measures 38 inches Long x 33 3/4 inches High. Includes a stand.\\r\\nMany extras including rigging, long boats, pilot house, anchors, etc. Comes with 2 masts, all square-rigged&quot;\t414\t33.3\t54.6\n",
       "\n",
       "</div>"
      ]
     },
     "metadata": {
      "application/vnd.databricks.v1+output": {
       "addedWidgets": {},
       "arguments": {},
       "data": "<div class=\"ansiout\">productCode\tproductName\tproductLine\tproductScale\tproductVendor\tproductDescription\tquantityInStock\tbuyPrice\tMSRP\nS10_1678\t1969 Harley Davidson Ultimate Chopper\tMotorcycles\t01:10\tMin Lin Diecast\t&quot;This replica features working kickstand, front suspension, gear-shift lever, footbrake lever, drive chain, wheels and steering. All parts are particularly delicate due to their precise scale and require special care and attention.&quot;\t7933\t48.81\t95.7\nS10_1949\t1952 Alpine Renault 1300\tClassic Cars\t01:10\tClassic Metal Creations\t&quot;Turnable front wheels, steering function, detailed interior, detailed engine, opening hood, opening trunk, opening doors, and detailed chassis.&quot;\t7305\t98.58\t214.3\nS10_2016\t1996 Moto Guzzi 1100i\tMotorcycles\t01:10\tHighway 66 Mini Classics\t&quot;Official Moto Guzzi logos and insignias, saddle bags located on side of motorcycle, detailed engine, working steering, working suspension, two leather seats, luggage rack, dual exhaust pipes, small saddle bag located on handle bars, two-tone paint with chrome accents, superior die-cast detail , rotating wheels , working kick stand, diecast metal with plastic parts and baked enamel finish.&quot;\t6625\t68.99\t118.94\nS10_4698\t2003 Harley-Davidson Eagle Drag Bike\tMotorcycles\t01:10\tRed Start Diecast\t&quot;Model features, official Harley Davidson logos and insignias, detachable rear wheelie bar, heavy diecast metal with resin parts, authentic multi-color tampo-printed graphics, separate engine drive belts, free-turning front fork, rotating tires and rear racing slick, certificate of authenticity, detailed engine, display stand\\r\\n, precision diecast replica, baked enamel finish, 1:10 scale model, removable fender, seat and tank cover piece for displaying the superior detail of the v-twin engine&quot;\t5582\t91.02\t193.66\nS10_4757\t1972 Alfa Romeo GTA\tClassic Cars\t01:10\tMotor City Art Classics\t&quot;Features include: Turnable front wheels, steering function, detailed interior, detailed engine, opening hood, opening trunk, opening doors, and detailed chassis.&quot;\t3252\t85.68\t136\nS10_4962\t1962 LanciaA Delta 16V\tClassic Cars\t01:10\tSecond Gear Diecast\t&quot;Features include: Turnable front wheels, steering function, detailed interior, detailed engine, opening hood, opening trunk, opening doors, and detailed chassis.&quot;\t6791\t103.42\t147.74\nS12_1099\t1968 Ford Mustang\tClassic Cars\t01:12\tAutoart Studio Design\t&quot;Hood, doors and trunk all open to reveal highly detailed interior features. Steering wheel actually turns the front wheels. Color dark green.&quot;\t68\t95.34\t194.57\nS12_1108\t2001 Ferrari Enzo\tClassic Cars\t01:12\tSecond Gear Diecast\t&quot;Turnable front wheels, steering function, detailed interior, detailed engine, opening hood, opening trunk, opening doors, and detailed chassis.&quot;\t3619\t95.59\t207.8\nS12_1666\t1958 Setra Bus\tTrucks and Buses\t01:12\tWelly Diecast Productions\t&quot;Model features 30 windows, skylights &amp; glare resistant glass, working steering system, original logos&quot;\t1579\t77.9\t136.67\nS12_2823\t2002 Suzuki XREO\tMotorcycles\t01:12\tUnimax Art Galleries\t&quot;Official logos and insignias, saddle bags located on side of motorcycle, detailed engine, working steering, working suspension, two leather seats, luggage rack, dual exhaust pipes, small saddle bag located on handle bars, two-tone paint with chrome accents, superior die-cast detail , rotating wheels , working kick stand, diecast metal with plastic parts and baked enamel finish.&quot;\t9997\t66.27\t150.62\nS12_3148\t1969 Corvair Monza\tClassic Cars\t01:18\tWelly Diecast Productions\t&quot;1:18 scale die-cast about 10\\&quot;&quot; long doors open, hood opens, trunk opens and wheels roll&quot;\t6906\t89.14\t151.08\nS12_3380\t1968 Dodge Charger\tClassic Cars\t01:12\tWelly Diecast Productions\t&quot;1:12 scale model of a 1968 Dodge Charger. Hood, doors and trunk all open to reveal highly detailed interior features. Steering wheel actually turns the front wheels. Color black&quot;\t9123\t75.16\t117.44\nS12_3891\t1969 Ford Falcon\tClassic Cars\t01:12\tSecond Gear Diecast\t&quot;Turnable front wheels, steering function, detailed interior, detailed engine, opening hood, opening trunk, opening doors, and detailed chassis.&quot;\t1049\t83.05\t173.02\nS12_3990\t1970 Plymouth Hemi Cuda\tClassic Cars\t01:12\tStudio M Art Models\tVery detailed 1970 Plymouth Cuda model in 1:12 scale. The Cuda is generally accepted as one of the fastest original muscle cars from the 1970s. This model is a reproduction of one of the orginal 652 cars built in 1970. Red color.\t5663\t31.92\t79.8\nS12_4473\t1957 Chevy Pickup\tTrucks and Buses\t01:12\tExoto Designs\t&quot;1:12 scale die-cast about 20\\&quot;&quot; long Hood opens, Rubber wheels&quot;\t6125\t55.7\t118.5\nS12_4675\t1969 Dodge Charger\tClassic Cars\t01:12\tWelly Diecast Productions\tDetailed model of the 1969 Dodge Charger. This model includes finely detailed interior and exterior features. Painted in red and white.\t7323\t58.73\t115.16\nS18_1097\t1940 Ford Pickup Truck\tTrucks and Buses\t01:18\tStudio M Art Models\t&quot;This model features soft rubber tires, working steering, rubber mud guards, authentic Ford logos, detailed undercarriage, opening doors and hood,  removable split rear gate, full size spare mounted in bed, detailed interior with opening glove box&quot;\t2613\t58.33\t116.67\nS18_1129\t1993 Mazda RX-7\tClassic Cars\t01:18\tHighway 66 Mini Classics\t&quot;This model features, opening hood, opening doors, detailed engine, rear spoiler, opening trunk, working steering, tinted windows, baked enamel finish. Color red.&quot;\t3975\t83.51\t141.54\nS18_1342\t1937 Lincoln Berline\tVintage Cars\t01:18\tMotor City Art Classics\t&quot;Features opening engine cover, doors, trunk, and fuel filler cap. Color black&quot;\t8693\t60.62\t102.74\nS18_1367\t1936 Mercedes-Benz 500K Special Roadster\tVintage Cars\t01:18\tStudio M Art Models\t&quot;This 1:18 scale replica is constructed of heavy die-cast metal and has all the features of the original: working doors and rumble seat, independent spring suspension, detailed interior, working steering system, and a bifold hood that reveals an engine so accurate that it even includes the wiring. All this is topped off with a baked enamel finish. Color white.&quot;\t8635\t24.26\t53.91\nS18_1589\t1965 Aston Martin DB5\tClassic Cars\t01:18\tClassic Metal Creations\t&quot;Die-cast model of the silver 1965 Aston Martin DB5 in silver. This model includes full wire wheels and doors that open with fully detailed passenger compartment. In 1:18 scale, this model measures approximately 10 inches/20 cm long.&quot;\t9042\t65.96\t124.44\nS18_1662\t1980s Black Hawk Helicopter\tPlanes\t01:18\tRed Start Diecast\t&quot;1:18 scale replica of actual Army\\'s UH-60L BLACK HAWK Helicopter. 100% hand-assembled. Features rotating rotor blades, propeller blades and rubber wheels.&quot;\t5330\t77.27\t157.69\nS18_1749\t1917 Grand Touring Sedan\tVintage Cars\t01:18\tWelly Diecast Productions\t&quot;This 1:18 scale replica of the 1917 Grand Touring car has all the features you would expect from museum quality reproductions: all four doors and bi-fold hood opening, detailed engine and instrument panel, chrome-look trim, and tufted upholstery, all topped off with a factory baked-enamel finish.&quot;\t2724\t86.7\t170\nS18_1889\t1948 Porsche 356-A Roadster\tClassic Cars\t01:18\tGearbox Collectibles\t&quot;This precision die-cast replica features opening doors, superb detail and craftsmanship, working steering system, opening forward compartment, opening rear trunk with removable spare, 4 wheel independent spring suspension as well as factory baked enamel finish.&quot;\t8826\t53.9\t77\nS18_1984\t1995 Honda Civic\tClassic Cars\t01:18\tMin Lin Diecast\t&quot;This model features, opening hood, opening doors, detailed engine, rear spoiler, opening trunk, working steering, tinted windows, baked enamel finish. Color yellow.&quot;\t9772\t93.89\t142.25\nS18_2238\t1998 Chrysler Plymouth Prowler\tClassic Cars\t01:18\tGearbox Collectibles\t&quot;Turnable front wheels, steering function, detailed interior, detailed engine, opening hood, opening trunk, opening doors, and detailed chassis.&quot;\t4724\t101.51\t163.73\nS18_2248\t1911 Ford Town Car\tVintage Cars\t01:18\tMotor City Art Classics\t&quot;Features opening hood, opening doors, opening trunk, wide white wall tires, front door arm rests, working steering system.&quot;\t540\t33.3\t60.54\nS18_2319\t1964 Mercedes Tour Bus\tTrucks and Buses\t01:18\tUnimax Art Galleries\t&quot;Exact replica. 100+ parts. working steering system, original logos&quot;\t8258\t74.86\t122.73\nS18_2325\t1932 Model A Ford J-Coupe\tVintage Cars\t01:18\tAutoart Studio Design\t&quot;This model features grille-mounted chrome horn, lift-up louvered hood, fold-down rumble seat, working steering system, chrome-covered spare, opening doors, detailed and wired engine&quot;\t9354\t58.48\t127.13\nS18_2432\t1926 Ford Fire Engine\tTrucks and Buses\t01:18\tCarousel DieCast Legends\t&quot;Gleaming red handsome appearance. Everything is here the fire hoses, ladder, axes, bells, lanterns, ready to fight any inferno.&quot;\t2018\t24.92\t60.77\nS18_2581\tP-51-D Mustang\tPlanes\t0.091666667\tGearbox Collectibles\tHas retractable wheels and comes with a stand\t992\t49\t84.48\nS18_2625\t1936 Harley Davidson El Knucklehead\tMotorcycles\t01:18\tWelly Diecast Productions\t&quot;Intricately detailed with chrome accents and trim, official die-struck logos and baked enamel finish.&quot;\t4357\t24.23\t60.57\nS18_2795\t1928 Mercedes-Benz SSK\tVintage Cars\t01:18\tGearbox Collectibles\t&quot;This 1:18 replica features grille-mounted chrome horn, lift-up louvered hood, fold-down rumble seat, working steering system, chrome-covered spare, opening doors, detailed and wired engine. Color black.&quot;\t548\t72.56\t168.75\nS18_2870\t1999 Indy 500 Monte Carlo SS\tClassic Cars\t01:18\tRed Start Diecast\tFeatures include opening and closing doors. Color: Red\t8164\t56.76\t132\nS18_2949\t1913 Ford Model T Speedster\tVintage Cars\t01:18\tCarousel DieCast Legends\t&quot;This 250 part reproduction includes moving handbrakes, clutch, throttle and foot pedals, squeezable horn, detailed wired engine, removable water, gas, and oil cans, pivoting monocle windshield, all topped with a baked enamel red finish. Each replica comes with an Owners Title and Certificate of Authenticity. Color red.&quot;\t4189\t60.78\t101.31\nS18_2957\t1934 Ford V8 Coupe\tVintage Cars\t01:18\tMin Lin Diecast\t&quot;Chrome Trim, Chrome Grille, Opening Hood, Opening Doors, Opening Trunk, Detailed Engine, Working Steering System&quot;\t5649\t34.35\t62.46\nS18_3029\t1999 Yamaha Speed Boat\tShips\t01:18\tMin Lin Diecast\t&quot;Exact replica. Wood and Metal. Many extras including rigging, long boats, pilot house, anchors, etc. Comes with three masts, all square-rigged.&quot;\t4259\t51.61\t86.02\nS18_3136\t18th Century Vintage Horse Carriage\tVintage Cars\t01:18\tRed Start Diecast\t&quot;Hand crafted diecast-like metal horse carriage is re-created in about 1:18 scale of antique horse carriage. This antique style metal Stagecoach is all hand-assembled with many different parts.\\r\\n\\r\\nThis collectible metal horse carriage is painted in classic Red, and features turning steering wheel and is entirely hand-finished.&quot;\t5992\t60.74\t104.72\nS18_3140\t1903 Ford Model A\tVintage Cars\t01:18\tUnimax Art Galleries\t&quot;Features opening trunk,  working steering system&quot;\t3913\t68.3\t136.59\nS18_3232\t1992 Ferrari 360 Spider red\tClassic Cars\t01:18\tUnimax Art Galleries\t&quot;his replica features opening doors, superb detail and craftsmanship, working steering system, opening forward compartment, opening rear trunk with removable spare, 4 wheel independent spring suspension as well as factory baked enamel finish.&quot;\t8347\t77.9\t169.34\nS18_3233\t1985 Toyota Supra\tClassic Cars\t01:18\tHighway 66 Mini Classics\t&quot;This model features soft rubber tires, working steering, rubber mud guards, authentic Ford logos, detailed undercarriage, opening doors and hood, removable split rear gate, full size spare mounted in bed, detailed interior with opening glove box&quot;\t7733\t57.01\t107.57\nS18_3259\tCollectable Wooden Train\tTrains\t01:18\tCarousel DieCast Legends\t&quot;Hand crafted wooden toy train set is in about 1:18 scale, 25 inches in total length including 2 additional carts, of actual vintage train. This antique style wooden toy train model set is all hand-assembled with 100% wood.&quot;\t6450\t67.56\t100.84\nS18_3278\t1969 Dodge Super Bee\tClassic Cars\t01:18\tMin Lin Diecast\t&quot;This replica features opening doors, superb detail and craftsmanship, working steering system, opening forward compartment, opening rear trunk with removable spare, 4 wheel independent spring suspension as well as factory baked enamel finish.&quot;\t1917\t49.05\t80.41\nS18_3320\t1917 Maxwell Touring Car\tVintage Cars\t01:18\tExoto Designs\t&quot;Features Gold Trim, Full Size Spare Tire, Chrome Trim, Chrome Grille, Opening Hood, Opening Doors, Opening Trunk, Detailed Engine, Working Steering System&quot;\t7913\t57.54\t99.21\nS18_3482\t1976 Ford Gran Torino\tClassic Cars\t01:18\tGearbox Collectibles\t&quot;Highly detailed 1976 Ford Gran Torino \\&quot;&quot;Starsky and Hutch\\&quot;&quot; diecast model. Very well constructed and painted in red and white patterns.&quot;\t9127\t73.49\t146.99\nS18_3685\t1948 Porsche Type 356 Roadster\tClassic Cars\t01:18\tGearbox Collectibles\t&quot;This model features working front and rear suspension on accurately replicated and actuating shock absorbers as well as opening engine cover, rear stabilizer flap,  and 4 opening doors.&quot;\t8990\t62.16\t141.28\nS18_3782\t1957 Vespa GS150\tMotorcycles\t01:18\tStudio M Art Models\t&quot;Features rotating wheels , working kick stand. Comes with stand.&quot;\t7689\t32.95\t62.17\nS18_3856\t1941 Chevrolet Special Deluxe Cabriolet\tVintage Cars\t01:18\tExoto Designs\t&quot;Features opening hood, opening doors, opening trunk, wide white wall tires, front door arm rests, working steering system, leather upholstery. Color black.&quot;\t2378\t64.58\t105.87\nS18_4027\t1970 Triumph Spitfire\tClassic Cars\t01:18\tMin Lin Diecast\tFeatures include opening and closing doors. Color: White.\t5545\t91.92\t143.62\nS18_4409\t1932 Alfa Romeo 8C2300 Spider Sport\tVintage Cars\t01:18\tExoto Designs\t&quot;This 1:18 scale precision die cast replica features the 6 front headlights of the original, plus a detailed version of the 142 horsepower straight 8 engine, dual spares and their famous comprehensive dashboard. Color black.&quot;\t6553\t43.26\t92.03\nS18_4522\t1904 Buick Runabout\tVintage Cars\t01:18\tExoto Designs\t&quot;Features opening trunk,  working steering system&quot;\t8290\t52.66\t87.77\nS18_4600\t1940s Ford truck\tTrucks and Buses\t01:18\tMotor City Art Classics\t&quot;This 1940s Ford Pick-Up truck is re-created in 1:18 scale of original 1940s Ford truck. This antique style metal 1940s Ford Flatbed truck is all hand-assembled. This collectible 1940\\'s Pick-Up truck is painted in classic dark green color, and features rotating wheels.&quot;\t3128\t84.76\t121.08\nS18_4668\t1939 Cadillac Limousine\tVintage Cars\t01:18\tStudio M Art Models\t&quot;Features completely detailed interior including Velvet flocked drapes,deluxe wood grain floor, and a wood grain casket with seperate chrome handles&quot;\t6645\t23.14\t50.31\nS18_4721\t1957 Corvette Convertible\tClassic Cars\t01:18\tClassic Metal Creations\t1957 die cast Corvette Convertible in Roman Red with white sides and whitewall tires. 1:18 scale quality die-cast with detailed engine and underbvody. Now you can own The Classic Corvette.\t1249\t69.93\t148.8\nS18_4933\t1957 Ford Thunderbird\tClassic Cars\t01:18\tStudio M Art Models\t&quot;This 1:18 scale precision die-cast replica, with its optional porthole hardtop and factory baked-enamel Thunderbird Bronze finish, is a 100% accurate rendition of this American classic.&quot;\t3209\t34.21\t71.27\nS24_1046\t1970 Chevy Chevelle SS 454\tClassic Cars\t01:24\tUnimax Art Galleries\t&quot;This model features rotating wheels, working streering system and opening doors. All parts are particularly delicate due to their precise scale and require special care and attention. It should not be picked up by the doors, roof, hood or trunk.&quot;\t1005\t49.24\t73.49\nS24_1444\t1970 Dodge Coronet\tClassic Cars\t01:24\tHighway 66 Mini Classics\t&quot;1:24 scale die-cast about 18\\&quot;&quot; long doors open, hood opens and rubber wheels&quot;\t4074\t32.37\t57.8\nS24_1578\t1997 BMW R 1100 S\tMotorcycles\t01:24\tAutoart Studio Design\tDetailed scale replica with working suspension and constructed from over 70 parts\t7003\t60.86\t112.7\nS24_1628\t1966 Shelby Cobra 427 S/C\tClassic Cars\t01:24\tCarousel DieCast Legends\tThis diecast model of the 1966 Shelby Cobra 427 S/C includes many authentic details and operating parts. The 1:24 scale model of this iconic lighweight sports car from the 1960s comes in silver and it\\'s own display case.\t8197\t29.18\t50.31\nS24_1785\t1928 British Royal Navy Airplane\tPlanes\t01:24\tClassic Metal Creations\tOfficial logos and insignias\t3627\t66.74\t109.42\nS24_1937\t1939 Chevrolet Deluxe Coupe\tVintage Cars\t01:24\tMotor City Art Classics\t&quot;This 1:24 scale die-cast replica of the 1939 Chevrolet Deluxe Coupe has the same classy look as the original. Features opening trunk, hood and doors and a showroom quality baked enamel finish.&quot;\t7332\t22.57\t33.19\nS24_2000\t1960 BSA Gold Star DBD34\tMotorcycles\t01:24\tHighway 66 Mini Classics\tDetailed scale replica with working suspension and constructed from over 70 parts\t15\t37.32\t76.17\nS24_2011\t18th century schooner\tShips\t01:24\tCarousel DieCast Legends\t&quot;All wood with canvas sails. Many extras including rigging, long boats, pilot house, anchors, etc. Comes with 4 masts, all square-rigged.&quot;\t1898\t82.34\t122.89\nS24_2022\t1938 Cadillac V-16 Presidential Limousine\tVintage Cars\t01:24\tClassic Metal Creations\t&quot;This 1:24 scale precision die cast replica of the 1938 Cadillac V-16 Presidential Limousine has all the details of the original, from the flags on the front to an opening back seat compartment complete with telephone and rifle. Features factory baked-enamel black finish, hood goddess ornament, working jump seats.&quot;\t2847\t20.61\t44.8\nS24_2300\t1962 Volkswagen Microbus\tTrucks and Buses\t01:24\tAutoart Studio Design\t&quot;This 1:18 scale die cast replica of the 1962 Microbus is loaded with features: A working steering system, opening front doors and tailgate, and famous two-tone factory baked enamel finish, are all topped of by the sliding, real fabric, sunroof.&quot;\t2327\t61.34\t127.79\nS24_2360\t1982 Ducati 900 Monster\tMotorcycles\t01:24\tHighway 66 Mini Classics\t&quot;Features two-tone paint with chrome accents, superior die-cast detail , rotating wheels , working kick stand&quot;\t6840\t47.1\t69.26\nS24_2766\t1949 Jaguar XK 120\tClassic Cars\t01:24\tClassic Metal Creations\t&quot;Precision-engineered from original Jaguar specification in perfect scale ratio. Features opening doors, superb detail and craftsmanship, working steering system, opening forward compartment, opening rear trunk with removable spare, 4 wheel independent spring suspension as well as factory baked enamel finish.&quot;\t2350\t47.25\t90.87\nS24_2840\t1958 Chevy Corvette Limited Edition\tClassic Cars\t01:24\tCarousel DieCast Legends\t&quot;The operating parts of this 1958 Chevy Corvette Limited Edition are particularly delicate due to their precise scale and require special care and attention. Features rotating wheels, working streering, opening doors and trunk. Color dark green.&quot;\t2542\t15.91\t35.36\nS24_2841\t1900s Vintage Bi-Plane\tPlanes\t01:24\tAutoart Studio Design\tHand crafted diecast-like metal bi-plane is re-created in about 1:24 scale of antique pioneer airplane. All hand-assembled with many different parts. Hand-painted in classic yellow and features correct markings of original airplane.\t5942\t34.25\t68.51\nS24_2887\t1952 Citroen-15CV\tClassic Cars\t01:24\tExoto Designs\t&quot;Precision crafted hand-assembled 1:18 scale reproduction of the 1952 15CV, with its independent spring suspension, working steering system, opening doors and hood, detailed engine and instrument panel, all topped of with a factory fresh baked enamel finish.&quot;\t1452\t72.82\t117.44\nS24_2972\t1982 Lamborghini Diablo\tClassic Cars\t01:24\tSecond Gear Diecast\t&quot;This replica features opening doors, superb detail and craftsmanship, working steering system, opening forward compartment, opening rear trunk with removable spare, 4 wheel independent spring suspension as well as factory baked enamel finish.&quot;\t7723\t16.24\t37.76\nS24_3151\t1912 Ford Model T Delivery Wagon\tVintage Cars\t01:24\tMin Lin Diecast\t&quot;This model features chrome trim and grille, opening hood, opening doors, opening trunk, detailed engine, working steering system. Color white.&quot;\t9173\t46.91\t88.51\nS24_3191\t1969 Chevrolet Camaro Z28\tClassic Cars\t01:24\tExoto Designs\t&quot;1969 Z/28 Chevy Camaro 1:24 scale replica. The operating parts of this limited edition 1:24 scale diecast model car 1969 Chevy Camaro Z28- hood, trunk, wheels, streering, suspension and doors- are particularly delicate due to their precise scale and require special care and attention.&quot;\t4695\t50.51\t85.61\nS24_3371\t1971 Alpine Renault 1600s\tClassic Cars\t01:24\tWelly Diecast Productions\t&quot;This 1971 Alpine Renault 1600s replica Features opening doors, superb detail and craftsmanship, working steering system, opening forward compartment, opening rear trunk with removable spare, 4 wheel independent spring suspension as well as factory baked enamel finish.&quot;\t7995\t38.58\t61.23\nS24_3420\t1937 Horch 930V Limousine\tVintage Cars\t01:24\tAutoart Studio Design\t&quot;Features opening hood, opening doors, opening trunk, wide white wall tires, front door arm rests, working steering system&quot;\t2902\t26.3\t65.75\nS24_3432\t2002 Chevy Corvette\tClassic Cars\t01:24\tGearbox Collectibles\t&quot;The operating parts of this limited edition Diecast 2002 Chevy Corvette 50th Anniversary Pace car Limited Edition are particularly delicate due to their precise scale and require special care and attention. Features rotating wheels, poseable streering, opening doors and trunk.&quot;\t9446\t62.11\t107.08\nS24_3816\t1940 Ford Delivery Sedan\tVintage Cars\t01:24\tCarousel DieCast Legends\t&quot;Chrome Trim, Chrome Grille, Opening Hood, Opening Doors, Opening Trunk, Detailed Engine, Working Steering System. Color black.&quot;\t6621\t48.64\t83.86\nS24_3856\t1956 Porsche 356A Coupe\tClassic Cars\t01:18\tClassic Metal Creations\t&quot;Features include: Turnable front wheels, steering function, detailed interior, detailed engine, opening hood, opening trunk, opening doors, and detailed chassis.&quot;\t6600\t98.3\t140.43\nS24_3949\tCorsair F4U ( Bird Cage)\tPlanes\t01:24\tSecond Gear Diecast\tHas retractable wheels and comes with a stand. Official logos and insignias.\t6812\t29.34\t68.24\nS24_3969\t1936 Mercedes Benz 500k Roadster\tVintage Cars\t01:24\tRed Start Diecast\t&quot;This model features grille-mounted chrome horn, lift-up louvered hood, fold-down rumble seat, working steering system and rubber wheels. Color black.&quot;\t2081\t21.75\t41.03\nS24_4048\t1992 Porsche Cayenne Turbo Silver\tClassic Cars\t01:24\tExoto Designs\t&quot;This replica features opening doors, superb detail and craftsmanship, working steering system, opening forward compartment, opening rear trunk with removable spare, 4 wheel independent spring suspension as well as factory baked enamel finish.&quot;\t6582\t69.78\t118.28\nS24_4258\t1936 Chrysler Airflow\tVintage Cars\t01:24\tSecond Gear Diecast\t&quot;Features opening trunk,  working steering system. Color dark green.&quot;\t4710\t57.46\t97.39\nS24_4278\t1900s Vintage Tri-Plane\tPlanes\t01:24\tUnimax Art Galleries\tHand crafted diecast-like metal Triplane is Re-created in about 1:24 scale of antique pioneer airplane. This antique style metal triplane is all hand-assembled with many different parts.\t2756\t36.23\t72.45\nS24_4620\t1961 Chevrolet Impala\tClassic Cars\t01:18\tClassic Metal Creations\t&quot;This 1:18 scale precision die-cast reproduction of the 1961 Chevrolet Impala has all the features-doors, hood and trunk that open; detailed 409 cubic-inch engine; chrome dashboard and stick shift, two-tone interior; working steering system; all topped of with a factory baked-enamel finish.&quot;\t7869\t32.33\t80.84\nS32_1268\t1980’s GM Manhattan Express\tTrucks and Buses\t01:32\tMotor City Art Classics\t&quot;This 1980’s era new look Manhattan express is still active, running from the Bronx to mid-town Manhattan. Has 35 opeining windows and working lights. Needs a battery.&quot;\t5099\t53.93\t96.31\nS32_1374\t1997 BMW F650 ST\tMotorcycles\t01:32\tExoto Designs\tFeatures official die-struck logos and baked enamel finish. Comes with stand.\t178\t66.92\t99.89\nS32_2206\t1982 Ducati 996 R\tMotorcycles\t01:32\tGearbox Collectibles\t&quot;Features rotating wheels , working kick stand. Comes with stand.&quot;\t9241\t24.14\t40.23\nS32_2509\t1954 Greyhound Scenicruiser\tTrucks and Buses\t01:32\tClassic Metal Creations\t&quot;Model features bi-level seating, 50 windows, skylights &amp; glare resistant glass, working steering system, original logos&quot;\t2874\t25.98\t54.11\nS32_3207\t1950\\'s Chicago Surface Lines Streetcar\tTrains\t01:32\tGearbox Collectibles\t&quot;This streetcar is a joy to see. It has 80 separate windows, electric wire guides, detailed interiors with seats, poles and drivers controls, rolling and turning wheel assemblies, plus authentic factory baked-enamel finishes (Green Hornet for Chicago and Cream and Crimson for Boston).&quot;\t8601\t26.72\t62.14\nS32_3522\t1996 Peterbilt 379 Stake Bed with Outrigger\tTrucks and Buses\t01:32\tRed Start Diecast\t&quot;This model features, opening doors, detailed engine, working steering, tinted windows, detailed interior, die-struck logos, removable stakes operating outriggers, detachable second trailer, functioning 360-degree self loader, precision molded resin trailer and trim, baked enamel finish on cab&quot;\t814\t33.61\t64.64\nS32_4289\t1928 Ford Phaeton Deluxe\tVintage Cars\t01:32\tHighway 66 Mini Classics\t&quot;This model features grille-mounted chrome horn, lift-up louvered hood, fold-down rumble seat, working steering system&quot;\t136\t33.02\t68.79\nS32_4485\t1974 Ducati 350 Mk3 Desmo\tMotorcycles\t01:32\tSecond Gear Diecast\t&quot;This model features two-tone paint with chrome accents, superior die-cast detail , rotating wheels , working kick stand&quot;\t3341\t56.13\t102.05\nS50_1341\t1930 Buick Marquette Phaeton\tVintage Cars\t01:50\tStudio M Art Models\t&quot;Features opening trunk,  working steering system&quot;\t7062\t27.06\t43.64\nS50_1392\tDiamond T620 Semi-Skirted Tanker\tTrucks and Buses\t01:50\tHighway 66 Mini Classics\tThis limited edition model is licensed and perfectly scaled for Lionel Trains. The Diamond T620 has been produced in solid precision diecast and painted with a fire baked enamel finish. It comes with a removable tanker and is a perfect model to add authenticity to your static train or car layout or to just have on display.\t1016\t68.29\t115.75\nS50_1514\t1962 City of Detroit Streetcar\tTrains\t01:50\tClassic Metal Creations\t&quot;This streetcar is a joy to see. It has 99 separate windows, electric wire guides, detailed interiors with seats, poles and drivers controls, rolling and turning wheel assemblies, plus authentic factory baked-enamel finishes (Green Hornet for Chicago and Cream and Crimson for Boston).&quot;\t1645\t37.49\t58.58\nS50_4713\t2002 Yamaha YZR M1\tMotorcycles\t01:50\tAutoart Studio Design\t&quot;Features rotating wheels , working kick stand. Comes with stand.&quot;\t600\t34.17\t81.36\nS700_1138\tThe Schooner Bluenose\tShips\t0.527777778\tAutoart Studio Design\t&quot;All wood with canvas sails. Measures 31 1/2 inches in Length, 22 inches High and 4 3/4 inches Wide. Many extras.\\r\\nThe schooner Bluenose was built in Nova Scotia in 1921 to fish the rough waters off the coast of Newfoundland. Because of the Bluenose racing prowess she became the pride of all Canadians. Still featured on stamps and the Canadian dime, the Bluenose was lost off Haiti in 1946.&quot;\t1897\t34\t66.67\nS700_1691\tAmerican Airlines: B767-300\tPlanes\t0.527777778\tMin Lin Diecast\tExact replia with official logos and insignias and retractable wheels\t5841\t51.15\t91.34\nS700_1938\tThe Mayflower\tShips\t0.527777778\tStudio M Art Models\t&quot;Measures 31 1/2 inches Long x 25 1/2 inches High x 10 5/8 inches Wide\\r\\nAll wood with canvas sail. Extras include long boats, rigging, ladders, railing, anchors, side cannons, hand painted, etc.&quot;\t737\t43.3\t86.61\nS700_2047\tHMS Bounty\tShips\t0.527777778\tUnimax Art Galleries\t&quot;Measures 30 inches Long x 27 1/2 inches High x 4 3/4 inches Wide. \\r\\nMany extras including rigging, long boats, pilot house, anchors, etc. Comes with three masts, all square-rigged.&quot;\t3501\t39.83\t90.52\nS700_2466\tAmerica West Airlines B757-200\tPlanes\t0.527777778\tMotor City Art Classics\tOfficial logos and insignias. Working steering system. Rotating jet engines\t9653\t68.8\t99.72\nS700_2610\tThe USS Constitution Ship\tShips\t0.527777778\tRed Start Diecast\t&quot;All wood with canvas sails. Measures 31 1/2\\&quot;&quot; Length x 22 3/8\\&quot;&quot; High x 8 1/4\\&quot;&quot; Width. Extras include 4 boats on deck, sea sprite on bow, anchors, copper railing, pilot houses, etc.&quot;\t7083\t33.97\t72.28\nS700_2824\t1982 Camaro Z28\tClassic Cars\t01:18\tCarousel DieCast Legends\t&quot;Features include opening and closing doors. Color: White. \\r\\nMeasures approximately 9 1/2\\&quot;&quot; Long.&quot;\t6934\t46.53\t101.15\nS700_2834\tATA: B757-300\tPlanes\t0.527777778\tHighway 66 Mini Classics\tExact replia with official logos and insignias and retractable wheels\t7106\t59.33\t118.65\nS700_3167\tF/A 18 Hornet 1/72\tPlanes\t0.091666667\tMotor City Art Classics\t&quot;10\\&quot;&quot; Wingspan with retractable landing gears.Comes with pilot&quot;\t551\t54.4\t80\nS700_3505\tThe Titanic\tShips\t0.527777778\tCarousel DieCast Legends\t&quot;Completed model measures 19 1/2 inches long, 9 inches high, 3inches wide and is in barn red/black. All wood and metal.&quot;\t1956\t51.09\t100.17\nS700_3962\tThe Queen Mary\tShips\t0.527777778\tWelly Diecast Productions\t&quot;Exact replica. Wood and Metal. Many extras including rigging, long boats, pilot house, anchors, etc. Comes with three masts, all square-rigged.&quot;\t5088\t53.63\t99.31\nS700_4002\tAmerican Airlines: MD-11S\tPlanes\t0.527777778\tSecond Gear Diecast\tPolished finish. Exact replia with official logos and insignias and retractable wheels\t8820\t36.27\t74.03\nS72_1253\tBoeing X-32A JSF\tPlanes\t0.091666667\tMotor City Art Classics\t&quot;10\\&quot;&quot; Wingspan with retractable landing gears.Comes with pilot&quot;\t4857\t32.77\t49.66\nS72_3212\tPont Yacht\tShips\t0.091666667\tUnimax Art Galleries\t&quot;Measures 38 inches Long x 33 3/4 inches High. Includes a stand.\\r\\nMany extras including rigging, long boats, pilot house, anchors, etc. Comes with 2 masts, all square-rigged&quot;\t414\t33.3\t54.6\n\n</div>",
       "datasetInfos": [],
       "metadata": {},
       "removedWidgets": [],
       "type": "html"
      }
     },
     "output_type": "display_data"
    }
   ],
   "source": [
    "%fs head dbfs:/FileStore/products/product.txt"
   ]
  },
  {
   "cell_type": "code",
   "execution_count": 0,
   "metadata": {
    "application/vnd.databricks.v1+cell": {
     "cellMetadata": {},
     "inputWidgets": {},
     "nuid": "4bae0d41-caa6-49ce-a31a-16d24c4b5231",
     "showTitle": false,
     "title": ""
    }
   },
   "outputs": [],
   "source": []
  }
 ],
 "metadata": {
  "application/vnd.databricks.v1+notebook": {
   "dashboards": [],
   "environmentMetadata": null,
   "language": "python",
   "notebookMetadata": {
    "mostRecentlyExecutedCommandWithImplicitDF": {
     "commandId": 303413737932376,
     "dataframes": [
      "_sqldf"
     ]
    },
    "pythonIndentUnit": 2
   },
   "notebookName": "config_product",
   "widgets": {}
  }
 },
 "nbformat": 4,
 "nbformat_minor": 0
}
